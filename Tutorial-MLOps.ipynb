{
 "cells": [
  {
   "cell_type": "markdown",
   "id": "d1fa5a6c",
   "metadata": {},
   "source": [
    "## Connect to the workspace\n",
    "\n",
    "Before you dive in the code, you'll need to connect to your Azure ML workspace. The workspace is the top-level resource for Azure Machine Learning, providing a centralized place to work with all the artifacts you create when you use Azure Machine Learning.\n",
    "\n",
    "We're using `DefaultAzureCredential` to get access to workspace. \n",
    "`DefaultAzureCredential` is used to handle most Azure SDK authentication scenarios. \n",
    "\n",
    "Reference for more available credentials if it doesn't work for you: [configure credential example](../../configuration.ipynb), [azure-identity reference doc](https://docs.microsoft.com/python/api/azure-identity/azure.identity?view=azure-python)."
   ]
  },
  {
   "cell_type": "code",
   "execution_count": null,
   "id": "520c383d",
   "metadata": {},
   "outputs": [],
   "source": [
    "# Handle to the workspace\n",
    "from azure.ai.ml import MLClient\n",
    "\n",
    "# Authentication package\n",
    "from azure.identity import DefaultAzureCredential\n",
    "\n",
    "credential = DefaultAzureCredential()"
   ]
  },
  {
   "cell_type": "markdown",
   "id": "12c9bc45",
   "metadata": {},
   "source": [
    "In the next cell, enter your Subscription ID, Resource Group name and Workspace name. To find these values:\n",
    "\n",
    "1. In the upper right Azure Machine Learning studio toolbar, select your workspace name.\n",
    "1. Copy the value for workspace, resource group and subscription ID into the code.  \n",
    "1. You'll need to copy one value, close the area and paste, then come back for the next one.\n",
    "\n",
    "![Credentials.png](https://raw.githubusercontent.com/Khaninsi/Azure-MLOps/master/screenshots/Credentials.png)"
   ]
  },
  {
   "cell_type": "code",
   "execution_count": null,
   "id": "8fc23ac3",
   "metadata": {},
   "outputs": [],
   "source": [
    "# Enter details of your AML workspace\n",
    "subscription_id_ws = \"<SUBSCRIPTION_ID>\"\n",
    "resource_group = \"<RESOURCE_GROUP>\"\n",
    "workspace = \"<AML_WORKSPACE_NAME>\""
   ]
  },
  {
   "cell_type": "code",
   "execution_count": null,
   "id": "d9d2b15b",
   "metadata": {},
   "outputs": [],
   "source": [
    "# Get a handle to the workspace\n",
    "ml_client = MLClient(\n",
    "    credential=credential,\n",
    "    subscription_id=subscription_id_ws,\n",
    "    resource_group_name=resource_group,\n",
    "    workspace_name=workspace,\n",
    ")"
   ]
  },
  {
   "cell_type": "markdown",
   "id": "ffe2e81c",
   "metadata": {},
   "source": [
    "## Create a compute resource to run your job\n",
    "\n",
    "You already have a compute instance you're using to run the notebook.  But now you'll add another type, a **compute cluster** that you'll use to run your training job. The compute cluster can be single or multi-node machines with Linux or Windows OS, or a specific compute fabric like Spark.\n",
    "\n",
    "You'll provision a Linux compute cluster. See the [full list on VM sizes and prices](https://azure.microsoft.com/pricing/details/machine-learning/) .\n",
    "\n",
    "For this example, you only need a basic cluster, so you'll use a Standard_DS11_v2 model with 2 vCPU cores, 14-GB RAM. If you have already created a compute cluster, please specify its name in **cpu_compute_target** variable."
   ]
  },
  {
   "cell_type": "code",
   "execution_count": null,
   "id": "d7b5f3fe",
   "metadata": {},
   "outputs": [],
   "source": [
    "from azure.ai.ml.entities import AmlCompute\n",
    "\n",
    "# Name assigned to the compute cluster\n",
    "cpu_compute_target = \"cpu-cluster\"\n",
    "\n",
    "try:\n",
    "    # let's see if the compute target already exists\n",
    "    cpu_cluster = ml_client.compute.get(cpu_compute_target)\n",
    "    print(\n",
    "        f\"You already have a cluster named {cpu_compute_target}, we'll reuse it as is.\"\n",
    "    )\n",
    "\n",
    "except Exception:\n",
    "    print(\"Creating a new cpu compute target...\")\n",
    "\n",
    "    # Let's create the Azure ML compute object with the intended parameters\n",
    "    cpu_cluster = AmlCompute(\n",
    "        name=cpu_compute_target,\n",
    "        # Azure ML Compute is the on-demand VM service\n",
    "        type=\"amlcompute\",\n",
    "        # VM Family\n",
    "        size=\"STANDARD_DS11_V2\",\n",
    "        # Minimum running nodes when there is no job running\n",
    "        min_instances=0,\n",
    "        # Nodes in cluster\n",
    "        max_instances=1,\n",
    "        # How many seconds will the node running after the job termination\n",
    "        idle_time_before_scale_down=180,\n",
    "        # Dedicated or LowPriority. The latter is cheaper but there is a chance of job termination\n",
    "        tier=\"Dedicated\",\n",
    "    )\n",
    "    print(\n",
    "         f\"AMLCompute with name {cpu_cluster.name} will be created, with compute size {cpu_cluster.size}\"\n",
    "          )\n",
    "    # Now, we pass the object to MLClient's create_or_update method\n",
    "    cpu_cluster = ml_client.compute.begin_create_or_update(cpu_cluster)\n",
    "\n"
   ]
  },
  {
   "cell_type": "markdown",
   "id": "2ef12772",
   "metadata": {},
   "source": [
    "## What is a command job?\n",
    "\n",
    "You'll create an Azure ML *command job* to train a model for credit default prediction. The command job is used to run a *training script* in a specified environment on a specified compute resource.  You've already created the environment and the compute resource.  Next you'll create the training script.\n",
    "\n",
    "The *training script* handles the data preparation, training and registering of the trained model. In this tutorial, you'll create a Python training script.\n",
    "\n",
    "Command jobs can be run from CLI, Python SDK, or studio interface. In this tutorial, you'll use the Azure ML Python SDK v2 to create and run the command job.\n",
    "\n",
    "After running the training job, you'll deploy the model, then use it to produce a prediction."
   ]
  },
  {
   "cell_type": "markdown",
   "id": "ba6a67c3",
   "metadata": {},
   "source": [
    "As you can see in this script, once the model is trained, the model file is saved and registered to the workspace. Now you can use the registered model in inferencing endpoints.\n",
    "\n",
    "## Configure the command\n",
    "\n",
    "Now that you have a script that can perform the desired tasks, you'll use the general purpose **command** that can run command line actions. This command line action can be directly calling system commands or by running a script. \n",
    "\n",
    "Here, you'll create input variables to specify the input data, split ratio, learning rate and registered model name.  The command script will:\n",
    "* Use the compute created earlier to run this command.\n",
    "* Use the environment created earlier - you can use the `@latest` notation to indicate the latest version of the environment when the command is run.\n",
    "* Configure some metadata like display name, experiment name etc. An *experiment* is a container for all the iterations you do on a certain project. All the jobs submitted under the same experiment name would be listed next to each other in Azure ML studio.\n",
    "* Configure the command line action itself - `python main.py` in this case. The inputs/outputs are accessible in the command via the `${{ ... }}` notation."
   ]
  },
  {
   "cell_type": "code",
   "execution_count": null,
   "id": "a81110ae",
   "metadata": {},
   "outputs": [],
   "source": [
    "#### TODO:\n",
    "\n",
    "from azure.ai.ml import command\n",
    "from azure.ai.ml import Input\n",
    "\n",
    "registered_model_name = \"deposit-prediction-model\"\n",
    "\n",
    "job = command(\n",
    "    inputs=dict(\n",
    "        data=Input(\n",
    "            type=\"uri_file\",\n",
    "            path=\"https://raw.githubusercontent.com/Khaninsi/Azure-MLOps/master/data/bank.csv\",\n",
    "        ),\n",
    "        test_train_ratio=0.2,\n",
    "        # Specify hyperparameters of Random Forest\n",
    "        max_depth=10,\n",
    "        n_estimators=300,\n",
    "        registered_model_name=registered_model_name,\n",
    "    ),\n",
    "    code=\"./src/\",  # location of source code\n",
    "    command=\"python main.py --data ${{inputs.data}} --test_train_ratio ${{inputs.test_train_ratio}} --max_depth ${{inputs.max_depth}} --registered_model_name ${{inputs.registered_model_name}}\",\n",
    "    environment=\"AzureML-sklearn-1.0-ubuntu20.04-py38-cpu@latest\",\n",
    "    compute=\"cpu-cluster\",\n",
    "    experiment_name=\"train_model_deposit_prediction\",\n",
    "    display_name=\"deposit-prediction\",\n",
    ")"
   ]
  },
  {
   "cell_type": "markdown",
   "id": "a80e714c",
   "metadata": {},
   "source": [
    "## Submit the job \n",
    "\n",
    "Using the MLClient created earlier, we will now run this Command as a job in the workspace."
   ]
  },
  {
   "cell_type": "code",
   "execution_count": null,
   "id": "264dfb1d",
   "metadata": {},
   "outputs": [],
   "source": [
    "ml_client.create_or_update(job)"
   ]
  },
  {
   "cell_type": "code",
   "execution_count": null,
   "id": "0d1153f4",
   "metadata": {},
   "outputs": [],
   "source": []
  },
  {
   "cell_type": "markdown",
   "id": "5ca0183e",
   "metadata": {},
   "source": [
    "# Deploy model\n",
    "Once the job is completed, you would see a model in the **Models** tab\n",
    "![Logs](https://raw.githubusercontent.com/Khaninsi/Azure-MLOps/master/screenshots/Models.png)"
   ]
  },
  {
   "cell_type": "markdown",
   "id": "85135fc7",
   "metadata": {},
   "source": [
    "Click on deposit-prediction-model, Deploy tab and select Real-time endpoint\n",
    "![Logs](https://raw.githubusercontent.com/Khaninsi/Azure-MLOps/master/screenshots/Realtime_endpoint.png)"
   ]
  },
  {
   "cell_type": "markdown",
   "id": "ab60c550",
   "metadata": {},
   "source": [
    "Use the following configuration, but keep in mind that the **Endpoint name** and **Deployment name** are not required to be the same as shown in the screenshot. This deployment requires a virtual machine to host the endpoint which would use a specified environment in conda.yml and Python script main.py.\n",
    "![Endpoint_configuration](https://raw.githubusercontent.com/Khaninsi/Azure-MLOps/master/screenshots/Endpoint_configuration.png)"
   ]
  },
  {
   "cell_type": "markdown",
   "id": "dd002666",
   "metadata": {},
   "source": [
    "Make sure to remove this endpoint once you are finished using it"
   ]
  },
  {
   "cell_type": "markdown",
   "id": "8f240345",
   "metadata": {},
   "source": [
    "## Test endpoint\n",
    "To test the endpoint, go to Endpoints tab and click on the created endpoint.\n",
    "![Logs](https://raw.githubusercontent.com/Khaninsi/Azure-MLOps/master/screenshots/Endpoint.png)"
   ]
  },
  {
   "cell_type": "markdown",
   "id": "57326ba0",
   "metadata": {},
   "source": [
    "Click the Test tab, enter the following JSON schema, and press the Test button.\n",
    "![Test_endpoint](https://raw.githubusercontent.com/Khaninsi/Azure-MLOps/master/screenshots/Test_endpoint.png)\n",
    "If no error messages appear, the deployment was successful and completed. Congrats!"
   ]
  },
  {
   "cell_type": "code",
   "execution_count": 3,
   "id": "e51b2f8a",
   "metadata": {},
   "outputs": [],
   "source": [
    "# ### NOTE: this cell cannot run within Azure ML Studio but can run in your local machine \n",
    "\n",
    "# # Convert the data to the types where the Azure ML endpoint could consume\n",
    "# import json\n",
    "\n",
    "# df_bank = pd.read_csv(\"bank.csv\")\n",
    "\n",
    "# # Select Features\n",
    "# feature = df_bank.drop('deposit', axis=1)\n",
    "\n",
    "# # Azure ML endpoint could consume JSON Schema in orient=\"split\" format\n",
    "# result = feature.iloc[300:302].to_json(orient=\"split\")\n",
    "# parsed = json.loads(result)\n",
    "\n",
    "# # Copy this Json schema as a value of the \"input_data\" key\n",
    "# print(json.dumps(parsed, indent=4))"
   ]
  },
  {
   "cell_type": "code",
   "execution_count": 4,
   "id": "aea55fdd",
   "metadata": {},
   "outputs": [],
   "source": [
    "# {\n",
    "#   \"input_data\": {\n",
    "#     \"columns\": [\n",
    "#         \"age\",\n",
    "#         \"job\",\n",
    "#         \"marital\",\n",
    "#         \"education\",\n",
    "#         \"default\",\n",
    "#         \"balance\",\n",
    "#         \"housing\",\n",
    "#         \"loan\",\n",
    "#         \"contact\",\n",
    "#         \"day\",\n",
    "#         \"month\",\n",
    "#         \"duration\",\n",
    "#         \"campaign\",\n",
    "#         \"pdays\",\n",
    "#         \"previous\",\n",
    "#         \"poutcome\"\n",
    "#     ],\n",
    "#     \"index\": [\n",
    "#         300,\n",
    "#         301\n",
    "#     ],\n",
    "#     \"data\": [\n",
    "#         [\n",
    "#             36,\n",
    "#             \"blue-collar\",\n",
    "#             \"divorced\",\n",
    "#             \"secondary\",\n",
    "#             \"no\",\n",
    "#             638,\n",
    "#             \"yes\",\n",
    "#             \"no\",\n",
    "#             \"unknown\",\n",
    "#             16,\n",
    "#             \"jun\",\n",
    "#             1395,\n",
    "#             2,\n",
    "#             -1,\n",
    "#             0,\n",
    "#             \"unknown\"\n",
    "#         ],\n",
    "#         [\n",
    "#             48,\n",
    "#             \"unemployed\",\n",
    "#             \"single\",\n",
    "#             \"tertiary\",\n",
    "#             \"no\",\n",
    "#             3229,\n",
    "#             \"no\",\n",
    "#             \"no\",\n",
    "#             \"unknown\",\n",
    "#             16,\n",
    "#             \"jun\",\n",
    "#             1089,\n",
    "#             1,\n",
    "#             -1,\n",
    "#             0,\n",
    "#             \"unknown\"\n",
    "#         ]\n",
    "#     ]\n",
    "# }\n",
    "# }"
   ]
  },
  {
   "cell_type": "code",
   "execution_count": null,
   "id": "8f7e4dd6",
   "metadata": {},
   "outputs": [],
   "source": []
  }
 ],
 "metadata": {
  "kernelspec": {
   "display_name": "Python 3 (ipykernel)",
   "language": "python",
   "name": "python3"
  },
  "language_info": {
   "codemirror_mode": {
    "name": "ipython",
    "version": 3
   },
   "file_extension": ".py",
   "mimetype": "text/x-python",
   "name": "python",
   "nbconvert_exporter": "python",
   "pygments_lexer": "ipython3",
   "version": "3.8.8"
  }
 },
 "nbformat": 4,
 "nbformat_minor": 5
}
